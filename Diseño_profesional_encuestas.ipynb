{
 "cells": [
  {
   "cell_type": "markdown",
   "metadata": {},
   "source": [
    "### Diseño profesional de encuestas"
   ]
  },
  {
   "cell_type": "code",
   "execution_count": 41,
   "metadata": {},
   "outputs": [
    {
     "name": "stdout",
     "output_type": "stream",
     "text": [
      "The autoreload extension is already loaded. To reload it, use:\n",
      "  %reload_ext autoreload\n"
     ]
    }
   ],
   "source": [
    "%load_ext autoreload\n",
    "%autoreload 2\n",
    "\n",
    "# from datetime import datetime\n",
    "# import random\n",
    "# import os as os\n",
    "\n",
    "import pandas as pd\n",
    "import matplotlib.pyplot as plt\n",
    "# import numpy as np\n",
    "# import seaborn as sns\n",
    "# from tqdm.notebook import tqdm \n",
    "\n",
    "from src.tamaño_muestral import enoe\n",
    "from src.tamaño_muestral import nivel_confianza\n"
   ]
  },
  {
   "cell_type": "markdown",
   "metadata": {},
   "source": [
    "* Tarea 1 - ENOE 2023"
   ]
  },
  {
   "cell_type": "markdown",
   "metadata": {},
   "source": [
    "##### Ejemplo del cálculo del tamaño de muestra para ENOE 2023.\n",
    "1. Considerando una confianza de 90% y un efecto de diseño de 4.00 observado en los estudios anteriores, así como una tasa neta de participación de 60.4 %, un promedio de 2.70 habitantes por vivienda, un error relativo máximo esperado de 5.05% para una TDA de 2%, y una tasa de no respuesta de 15%. ¿Cuál sería un buen tamaño de muestra?"
   ]
  },
  {
   "cell_type": "code",
   "execution_count": 42,
   "metadata": {},
   "outputs": [
    {
     "data": {
      "text/plain": [
       "60615"
      ]
     },
     "metadata": {},
     "output_type": "display_data"
    }
   ],
   "source": [
    "#### Defino variables\n",
    "## estimación de la proporción de interés (por ejemplo tasa de desempleo abierto)\n",
    "p = 0.604 ## (60.4%)\n",
    "## error relativo máximo aceptable\n",
    "r = 0.0505 ## (5.05%)\n",
    "## Efecto de diseño (se optiene de una encuesta anterior)\n",
    "deff = 4.00\n",
    "## Tasa de no respuesta\n",
    "tnr = 0.15 ## (15%)\n",
    "## Tasa neta de participación\n",
    "tnp = 0.02 ## (2%)\n",
    "## Promedio de habitantes por vivienda (chequear si es sólo mayores de edad)\n",
    "phv = 2.7\n",
    "\n",
    "## valor asentado --> se obtiene de la tabla de confianza Nivel_confianza\n",
    "z = nivel_confianza(90)\n",
    "\n",
    "##############\n",
    "## Tamaño de la muestra\n",
    "n = enoe(z, p, r, tnr, deff, tnp, phv)\n",
    "display(round(n))"
   ]
  },
  {
   "cell_type": "markdown",
   "metadata": {},
   "source": [
    "2. Si en la ENOE se busca una confianza del 97.5%, ¿cuál sería el tamaño de la muestra?"
   ]
  },
  {
   "cell_type": "code",
   "execution_count": 43,
   "metadata": {},
   "outputs": [
    {
     "data": {
      "text/plain": [
       "112554"
      ]
     },
     "metadata": {},
     "output_type": "display_data"
    }
   ],
   "source": [
    "z = nivel_confianza(97.5)\n",
    "\n",
    "##############\n",
    "## Tamaño de la muestra\n",
    "n = enoe(z, p, r, tnr, deff, tnp, phv)\n",
    "display(round(n))"
   ]
  },
  {
   "cell_type": "markdown",
   "metadata": {},
   "source": [
    "3. A partir de la F´ormula de Distribuci´on Optima ´ , deducir la F´ormula\n",
    "de Distribuci´on de Neyman. Sugerencia: ¿qu´e sucede en la Distribui´on ´optima si todos los costos son iguales?"
   ]
  },
  {
   "cell_type": "markdown",
   "metadata": {},
   "source": [
    "Si todos los estractos tienen el mismo costo \n",
    "$$c_i = c_1 = c_2 = ... = c_n$$\n",
    "\n",
    "Entonces se obtiene de \n",
    "\n",
    "$$ n_h = \\frac{\\frac{N_h S_h}{\\sqrt{C_h}}}{\\frac{N_1 S_1}{\\sqrt{C_1}} + ... + \\frac{N_n S_n}{\\sqrt{C_n}}}$$\n",
    "\n",
    "$$ n_h = \\frac{\\frac{1}{\\sqrt{C_h}} N_h S_h}{\\frac{1}{\\sqrt{C_i}}[N_1 S_1 + ... + N_n S_n]}$$\n",
    "\n",
    "Entonces como el costo $C_h = C_i$, se obiente la Formula de distribución de Neyman:\n",
    "$$ n_h = \\frac{N_h S_h}{N_1 S_1 + ... + N_n S_n}$$\n"
   ]
  },
  {
   "cell_type": "code",
   "execution_count": null,
   "metadata": {},
   "outputs": [],
   "source": []
  },
  {
   "cell_type": "code",
   "execution_count": null,
   "metadata": {},
   "outputs": [],
   "source": []
  },
  {
   "cell_type": "code",
   "execution_count": null,
   "metadata": {},
   "outputs": [],
   "source": []
  },
  {
   "cell_type": "code",
   "execution_count": null,
   "metadata": {},
   "outputs": [],
   "source": []
  }
 ],
 "metadata": {
  "kernelspec": {
   "display_name": "env",
   "language": "python",
   "name": "python3"
  },
  "language_info": {
   "codemirror_mode": {
    "name": "ipython",
    "version": 3
   },
   "file_extension": ".py",
   "mimetype": "text/x-python",
   "name": "python",
   "nbconvert_exporter": "python",
   "pygments_lexer": "ipython3",
   "version": "3.10.7"
  }
 },
 "nbformat": 4,
 "nbformat_minor": 2
}
