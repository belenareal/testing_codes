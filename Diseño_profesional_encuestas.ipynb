{
 "cells": [
  {
   "cell_type": "markdown",
   "metadata": {},
   "source": [
    "### Diseño profesional de encuestas"
   ]
  },
  {
   "cell_type": "code",
   "execution_count": null,
   "metadata": {},
   "outputs": [],
   "source": [
    "%load_ext autoreload\n",
    "%autoreload 2\n",
    "\n",
    "# from datetime import datetime\n",
    "# import random\n",
    "# import os as os\n",
    "\n",
    "import pandas as pd\n",
    "import matplotlib.pyplot as plt\n",
    "# import numpy as np\n",
    "# import seaborn as sns\n",
    "# from tqdm.notebook import tqdm \n",
    "\n",
    "from src.tamaño_muestral import enoe\n",
    "from src.tamaño_muestral import nivel_confianza\n"
   ]
  },
  {
   "cell_type": "markdown",
   "metadata": {},
   "source": [
    "* Tarea 1 - ENOE 2023"
   ]
  },
  {
   "cell_type": "code",
   "execution_count": null,
   "metadata": {},
   "outputs": [],
   "source": [
    "from scipy.stats import norm\n",
    "\n",
    "import pandas as pd\n",
    "\n",
    "\n",
    "def enoe(z, p, r, tnr, deff, tnp, phv):\n",
    "    q = 1 - p\n",
    "    n = (z**2 * q * deff) / (r**2 * p * (1 - tnr) * tnp * phv)\n",
    "    return n\n",
    "\n",
    "\n",
    "def nivel_confianza(nivel_confianza):\n",
    "    porcentaje = nivel_confianza/100\n",
    "    probabilidad_acumulada = 1 - (1 - porcentaje) / 2\n",
    "    z = norm.ppf(probabilidad_acumulada)\n",
    "    return z"
   ]
  },
  {
   "cell_type": "markdown",
   "metadata": {},
   "source": [
    "##### Ejemplo del cálculo del tamaño de muestra para ENOE 2023.\n",
    "1. Considerando una confianza de 90% y un efecto de diseño de 4.00 observado en los estudios anteriores, así como una tasa neta de participación de 60.4 %, un promedio de 2.70 habitantes por vivienda, un error relativo máximo esperado de 5.05% para una TDA de 2%, y una tasa de no respuesta de 15%. ¿Cuál sería un buen tamaño de muestra?"
   ]
  },
  {
   "cell_type": "code",
   "execution_count": 42,
   "metadata": {},
   "outputs": [
    {
     "data": {
      "text/plain": [
       "60615"
      ]
     },
     "metadata": {},
     "output_type": "display_data"
    }
   ],
   "source": [
    "#### Defino variables\n",
    "## estimación de la proporción de interés (por ejemplo tasa de desempleo abierto)\n",
    "p = 0.604 ## (60.4%)\n",
    "## error relativo máximo aceptable\n",
    "r = 0.0505 ## (5.05%)\n",
    "## Efecto de diseño (se optiene de una encuesta anterior)\n",
    "deff = 4.00\n",
    "## Tasa de no respuesta\n",
    "tnr = 0.15 ## (15%)\n",
    "## Tasa neta de participación\n",
    "tnp = 0.02 ## (2%)\n",
    "## Promedio de habitantes por vivienda (chequear si es sólo mayores de edad)\n",
    "phv = 2.7\n",
    "\n",
    "## valor asentado --> se obtiene de la tabla de confianza Nivel_confianza\n",
    "z = nivel_confianza(90)\n",
    "\n",
    "##############\n",
    "## Tamaño de la muestra\n",
    "n = enoe(z, p, r, tnr, deff, tnp, phv)\n",
    "display(round(n))"
   ]
  },
  {
   "cell_type": "markdown",
   "metadata": {},
   "source": [
    "2. Si en la ENOE se busca una confianza del 97.5%, ¿cuál sería el tamaño de la muestra?"
   ]
  },
  {
   "cell_type": "code",
   "execution_count": 43,
   "metadata": {},
   "outputs": [
    {
     "data": {
      "text/plain": [
       "112554"
      ]
     },
     "metadata": {},
     "output_type": "display_data"
    }
   ],
   "source": [
    "z = nivel_confianza(97.5)\n",
    "\n",
    "##############\n",
    "## Tamaño de la muestra\n",
    "n = enoe(z, p, r, tnr, deff, tnp, phv)\n",
    "display(round(n))"
   ]
  },
  {
   "cell_type": "markdown",
   "metadata": {},
   "source": [
    "3. A partir de la F´ormula de Distribuci´on Optima ´ , deducir la F´ormula\n",
    "de Distribuci´on de Neyman. Sugerencia: ¿qu´e sucede en la Distribui´on ´optima si todos los costos son iguales?"
   ]
  },
  {
   "cell_type": "markdown",
   "metadata": {},
   "source": [
    "Si todos los estractos tienen el mismo costo \n",
    "$$c_i = c_1 = c_2 = ... = c_n$$\n",
    "\n",
    "Entonces se obtiene de \n",
    "\n",
    "$$ n_h = \\frac{\\frac{N_h S_h}{\\sqrt{C_h}}}{\\frac{N_1 S_1}{\\sqrt{C_1}} + ... + \\frac{N_n S_n}{\\sqrt{C_n}}}$$\n",
    "\n",
    "$$ n_h = \\frac{\\frac{1}{\\sqrt{C_h}} N_h S_h}{\\frac{1}{\\sqrt{C_i}}[N_1 S_1 + ... + N_n S_n]}$$\n",
    "\n",
    "Entonces como el costo $C_h = C_i$, se obiente la Formula de distribución de Neyman:\n",
    "$$ n_h = \\frac{N_h S_h}{N_1 S_1 + ... + N_n S_n}$$\n"
   ]
  },
  {
   "cell_type": "markdown",
   "metadata": {},
   "source": [
    "## Diseño Profesional de Encuestas"
   ]
  },
  {
   "cell_type": "markdown",
   "metadata": {},
   "source": [
    "* Tarea 04. Cálculo de ponderaciones\n",
    "\n",
    "Suponiendo una poblacion de tamaño N y una muestra de tamaño n obtenida a traves de muestreo sistemático, ¿cúal es el factor de expansión de cada elemento de la muestra?"
   ]
  },
  {
   "cell_type": "markdown",
   "metadata": {},
   "source": [
    "Sea la probabilidad de eligir un elemento en el muestreo: \n",
    "$$ P(x_i) = \\frac{n}{N} $$\n",
    "\n",
    "Entonces el ponderador es inverso de la probabilidad\n",
    "\n",
    "$$ \\omega = \\frac{1}{\\frac{n}{N}} = \\frac{N}{n} $$"
   ]
  },
  {
   "cell_type": "markdown",
   "metadata": {},
   "source": [
    "### Actividad de la Clase 10"
   ]
  },
  {
   "cell_type": "code",
   "execution_count": 1,
   "metadata": {},
   "outputs": [],
   "source": [
    "import pandas as pd\n",
    "import numpy as np"
   ]
  },
  {
   "cell_type": "code",
   "execution_count": 2,
   "metadata": {},
   "outputs": [],
   "source": [
    "pais = pd.read_csv('mi_marco.csv')\n"
   ]
  },
  {
   "cell_type": "code",
   "execution_count": 3,
   "metadata": {},
   "outputs": [
    {
     "data": {
      "text/html": [
       "<div>\n",
       "<style scoped>\n",
       "    .dataframe tbody tr th:only-of-type {\n",
       "        vertical-align: middle;\n",
       "    }\n",
       "\n",
       "    .dataframe tbody tr th {\n",
       "        vertical-align: top;\n",
       "    }\n",
       "\n",
       "    .dataframe thead th {\n",
       "        text-align: right;\n",
       "    }\n",
       "</style>\n",
       "<table border=\"1\" class=\"dataframe\">\n",
       "  <thead>\n",
       "    <tr style=\"text-align: right;\">\n",
       "      <th></th>\n",
       "      <th>n.entidad</th>\n",
       "      <th>n.estrato</th>\n",
       "      <th>n.conglomerado</th>\n",
       "      <th>n.vivienda</th>\n",
       "      <th>total hogares</th>\n",
       "    </tr>\n",
       "  </thead>\n",
       "  <tbody>\n",
       "    <tr>\n",
       "      <th>0</th>\n",
       "      <td>1</td>\n",
       "      <td>1</td>\n",
       "      <td>1</td>\n",
       "      <td>1</td>\n",
       "      <td>9</td>\n",
       "    </tr>\n",
       "    <tr>\n",
       "      <th>1</th>\n",
       "      <td>1</td>\n",
       "      <td>1</td>\n",
       "      <td>1</td>\n",
       "      <td>2</td>\n",
       "      <td>4</td>\n",
       "    </tr>\n",
       "    <tr>\n",
       "      <th>2</th>\n",
       "      <td>1</td>\n",
       "      <td>1</td>\n",
       "      <td>1</td>\n",
       "      <td>3</td>\n",
       "      <td>9</td>\n",
       "    </tr>\n",
       "    <tr>\n",
       "      <th>3</th>\n",
       "      <td>1</td>\n",
       "      <td>1</td>\n",
       "      <td>1</td>\n",
       "      <td>4</td>\n",
       "      <td>1</td>\n",
       "    </tr>\n",
       "    <tr>\n",
       "      <th>4</th>\n",
       "      <td>1</td>\n",
       "      <td>1</td>\n",
       "      <td>1</td>\n",
       "      <td>5</td>\n",
       "      <td>2</td>\n",
       "    </tr>\n",
       "  </tbody>\n",
       "</table>\n",
       "</div>"
      ],
      "text/plain": [
       "   n.entidad  n.estrato  n.conglomerado  n.vivienda  total hogares\n",
       "0          1          1               1           1              9\n",
       "1          1          1               1           2              4\n",
       "2          1          1               1           3              9\n",
       "3          1          1               1           4              1\n",
       "4          1          1               1           5              2"
      ]
     },
     "execution_count": 3,
     "metadata": {},
     "output_type": "execute_result"
    }
   ],
   "source": [
    "pais.head()"
   ]
  },
  {
   "cell_type": "markdown",
   "metadata": {},
   "source": [
    "Queremos seleccionar una muestra de tamaño n = 200 viviendas utilizando un muestreo multietápico:\n",
    "* seleccionar todas las entidades\n",
    "* seleccionar todos los estrato\n",
    "* seleccionar algunos conglomerados\n",
    "* Seleccionar algunas viviendas\n",
    "* seleccionar algunos hogares\n",
    "* selecccionar algunos individuos"
   ]
  },
  {
   "cell_type": "markdown",
   "metadata": {},
   "source": [
    "#### Distribu"
   ]
  },
  {
   "cell_type": "code",
   "execution_count": null,
   "metadata": {},
   "outputs": [],
   "source": []
  },
  {
   "cell_type": "code",
   "execution_count": null,
   "metadata": {},
   "outputs": [],
   "source": []
  },
  {
   "cell_type": "code",
   "execution_count": null,
   "metadata": {},
   "outputs": [],
   "source": []
  },
  {
   "cell_type": "code",
   "execution_count": null,
   "metadata": {},
   "outputs": [],
   "source": []
  },
  {
   "cell_type": "code",
   "execution_count": 1,
   "metadata": {},
   "outputs": [
    {
     "name": "stdout",
     "output_type": "stream",
     "text": [
      "4\n"
     ]
    }
   ],
   "source": [
    "print(9//2)"
   ]
  },
  {
   "cell_type": "code",
   "execution_count": null,
   "metadata": {},
   "outputs": [],
   "source": []
  },
  {
   "cell_type": "code",
   "execution_count": null,
   "metadata": {},
   "outputs": [],
   "source": []
  },
  {
   "cell_type": "code",
   "execution_count": 2,
   "metadata": {},
   "outputs": [
    {
     "name": "stdout",
     "output_type": "stream",
     "text": [
      "   Columna1  Columna2\n",
      "0  0.336288 -1.468501\n",
      "1 -2.418001  0.251117\n",
      "2  1.493788 -0.365136\n",
      "3  0.287454 -1.967020\n",
      "4 -1.397117 -1.247834\n",
      "5  0.235490  1.326112\n",
      "6 -0.749024 -0.269622\n",
      "7 -0.264725 -0.951445\n",
      "8 -0.594926 -0.626937\n",
      "9 -0.241095 -0.994467\n"
     ]
    }
   ],
   "source": [
    "import pandas as pd\n",
    "import numpy as np\n",
    "\n",
    "# Crear datos de ejemplo\n",
    "datos = np.random.randn(10, 2)\n",
    "\n",
    "# Crear DataFrame\n",
    "df = pd.DataFrame(datos, columns=['Columna1', 'Columna2'])\n",
    "\n",
    "# Mostrar el DataFrame\n",
    "print(df)\n"
   ]
  },
  {
   "cell_type": "code",
   "execution_count": 8,
   "metadata": {},
   "outputs": [
    {
     "name": "stdout",
     "output_type": "stream",
     "text": [
      "0   -0.892018\n",
      "1   -1.241222\n",
      "2    1.764957\n",
      "3    0.932484\n",
      "4   -0.551692\n",
      "5   -1.848522\n",
      "6    1.494587\n",
      "7   -0.275101\n",
      "8   -0.395940\n",
      "9    2.384744\n",
      "dtype: float64\n"
     ]
    }
   ],
   "source": [
    "\n",
    "import pandas as pd\n",
    "import numpy as np\n",
    "\n",
    "# Crear una Serie con 10 valores aleatorios\n",
    "serie = pd.Series(np.random.randn(10))\n",
    "\n",
    "# Mostrar la Serie\n",
    "print(serie)"
   ]
  },
  {
   "cell_type": "code",
   "execution_count": 19,
   "metadata": {},
   "outputs": [],
   "source": [
    "fruits = [\"apple\", \"banana\", \"cherry\"]\n"
   ]
  },
  {
   "cell_type": "code",
   "execution_count": 21,
   "metadata": {},
   "outputs": [
    {
     "name": "stdout",
     "output_type": "stream",
     "text": [
      "[1, 2]\n"
     ]
    }
   ],
   "source": [
    "lista = [1,2,3]\n",
    "\n",
    "copia = lista\n",
    "\n",
    "lista.pop()\n",
    "\n",
    "print(copia)\n"
   ]
  },
  {
   "cell_type": "code",
   "execution_count": 23,
   "metadata": {},
   "outputs": [],
   "source": [
    " fruits.append(\"orange\")"
   ]
  },
  {
   "cell_type": "code",
   "execution_count": 24,
   "metadata": {},
   "outputs": [
    {
     "data": {
      "text/plain": [
       "['apple', 'banana', 'cherry', 'orange']"
      ]
     },
     "execution_count": 24,
     "metadata": {},
     "output_type": "execute_result"
    }
   ],
   "source": [
    "fruits"
   ]
  },
  {
   "cell_type": "code",
   "execution_count": 26,
   "metadata": {},
   "outputs": [],
   "source": [
    "list1 = [3, 4, 5, 20, 5, 25, 1, 3],"
   ]
  },
  {
   "cell_type": "code",
   "execution_count": 30,
   "metadata": {},
   "outputs": [
    {
     "name": "stdout",
     "output_type": "stream",
     "text": [
      "3\n"
     ]
    }
   ],
   "source": [
    "import numpy as np\n",
    "\n",
    "arr = np.array([1,2,3,5,8])\n",
    "\n",
    "arr = arr + 1\n",
    "\n",
    "print(arr[1])"
   ]
  },
  {
   "cell_type": "code",
   "execution_count": 31,
   "metadata": {},
   "outputs": [
    {
     "name": "stdout",
     "output_type": "stream",
     "text": [
      "21\n"
     ]
    }
   ],
   "source": [
    "import numpy as np\n",
    "\n",
    "a = np.array([1,2,3,5,8])\n",
    "\n",
    "b = np.array([0,3,4,2,1])\n",
    "\n",
    "c = a + b\n",
    "\n",
    "c = c * a\n",
    "\n",
    "print(c[2])"
   ]
  }
 ],
 "metadata": {
  "kernelspec": {
   "display_name": "env",
   "language": "python",
   "name": "python3"
  },
  "language_info": {
   "codemirror_mode": {
    "name": "ipython",
    "version": 3
   },
   "file_extension": ".py",
   "mimetype": "text/x-python",
   "name": "python",
   "nbconvert_exporter": "python",
   "pygments_lexer": "ipython3",
   "version": "3.10.12"
  }
 },
 "nbformat": 4,
 "nbformat_minor": 2
}
