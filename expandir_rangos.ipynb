{
 "cells": [
  {
   "cell_type": "code",
   "execution_count": 26,
   "metadata": {},
   "outputs": [
    {
     "name": "stdout",
     "output_type": "stream",
     "text": [
      "The autoreload extension is already loaded. To reload it, use:\n",
      "  %reload_ext autoreload\n"
     ]
    }
   ],
   "source": [
    "##############################################\n",
    "###   IMPORT PACKAGES\n",
    "%load_ext autoreload\n",
    "%autoreload 2\n",
    "\n",
    "import random\n",
    "import os as os\n",
    "\n",
    "import pandas as pd\n",
    "import matplotlib.pyplot as plt\n",
    "import numpy as np\n",
    "from tqdm.notebook import tqdm "
   ]
  },
  {
   "cell_type": "code",
   "execution_count": 43,
   "metadata": {},
   "outputs": [],
   "source": [
    "df = pd.read_csv('data/rango.csv')"
   ]
  },
  {
   "cell_type": "code",
   "execution_count": 44,
   "metadata": {},
   "outputs": [],
   "source": [
    "df = df.rename({'cve_edo' : 'id_entidad',\n",
    "                'estado' : 'entidad',\n",
    "                 'cve_mpio' : 'id_municipio',\n",
    "                  'mpio' : 'municipio'},\n",
    "                  axis = 1)"
   ]
  },
  {
   "cell_type": "code",
   "execution_count": 45,
   "metadata": {},
   "outputs": [
    {
     "name": "stdout",
     "output_type": "stream",
     "text": [
      "      id_entidad         entidad  id_municipio municipio seccion\n",
      "0            1.0  Aguascalientes           2.0  Asientos     338\n",
      "0            1.0  Aguascalientes           2.0  Asientos     339\n",
      "0            1.0  Aguascalientes           2.0  Asientos     340\n",
      "0            1.0  Aguascalientes           2.0  Asientos     341\n",
      "0            1.0  Aguascalientes           2.0  Asientos     342\n",
      "...          ...             ...           ...       ...     ...\n",
      "5504        32.0       Zacatecas          57.0  Trancoso     530\n",
      "5504        32.0       Zacatecas          57.0  Trancoso     531\n",
      "5504        32.0       Zacatecas          57.0  Trancoso     532\n",
      "5504        32.0       Zacatecas          57.0  Trancoso     533\n",
      "5505        32.0       Zacatecas          57.0  Trancoso     548\n",
      "\n",
      "[68989 rows x 5 columns]\n"
     ]
    }
   ],
   "source": [
    "df = df.drop(df.index[-1])\n",
    "\n",
    "df['inicio'] = pd.to_numeric(df['inicio'], errors='coerce')\n",
    "df['fin'] = pd.to_numeric(df['fin'], errors='coerce')\n",
    "\n",
    "df = df.fillna(0)\n",
    "\n",
    "df['inicio'] = df['inicio'].astype(int)\n",
    "df['fin'] = df['fin'].astype(int)\n",
    "\n",
    "df['seccion'] = df.apply(lambda row: list(range(row['inicio'], row['fin'] + 1)), axis=1)\n",
    "\n",
    "df2 = df.explode('seccion')\n",
    "\n",
    "df2 = df2.drop({'dto', 'inicio', 'fin', 'total_secciones'}, axis=1)\n",
    "\n",
    "df2['entidad'] = df2['entidad'].str.capitalize()\n",
    "df2['municipio'] = df2['municipio'].str.capitalize()\n",
    "\n",
    "print(df2)"
   ]
  },
  {
   "cell_type": "code",
   "execution_count": 46,
   "metadata": {},
   "outputs": [],
   "source": [
    "df2.to_csv('data/rangos_secciones.csv', index=False)"
   ]
  }
 ],
 "metadata": {
  "kernelspec": {
   "display_name": "env",
   "language": "python",
   "name": "python3"
  },
  "language_info": {
   "codemirror_mode": {
    "name": "ipython",
    "version": 3
   },
   "file_extension": ".py",
   "mimetype": "text/x-python",
   "name": "python",
   "nbconvert_exporter": "python",
   "pygments_lexer": "ipython3",
   "version": "3.11.4"
  }
 },
 "nbformat": 4,
 "nbformat_minor": 2
}
